{
 "cells": [
  {
   "cell_type": "code",
   "execution_count": 27,
   "metadata": {},
   "outputs": [],
   "source": [
    "#Imports\n",
    "import pandas as pd\n",
    "import numpy as np\n",
    "import random\n",
    "import jsonlines\n"
   ]
  },
  {
   "cell_type": "code",
   "execution_count": 28,
   "metadata": {},
   "outputs": [],
   "source": [
    "#load data\n",
    "\n",
    "# load data\n",
    "df_data = pd.read_csv('./ml-100k/u.data', delimiter='\\t',header=None, names=['user_id', 'item_id', 'rating', 'timestamp'])\n",
    "df_user = pd.read_csv('./ml-100k/u.user', delimiter='|', header=None, names=['user_id', 'age', 'gender', 'occupation', 'zip_code'])\n",
    "df_item = pd.read_csv('./ml-100k/u.item', delimiter='|', encoding='latin-1', header=None, names=['movieid', 'movietitle', 'releasedate', 'videoreleasedate', 'imdburl', 'unknown', 'action', 'adventure', 'animation', \"children's\", 'comedy', 'crime', 'documentary', 'drama', 'fantasy', 'film-noir', 'horror', 'musical', 'mystery', 'romance', 'sci-fi', 'thriller', 'war', 'western'])\n"
   ]
  },
  {
   "cell_type": "code",
   "execution_count": 29,
   "metadata": {},
   "outputs": [],
   "source": [
    "#Constants\n",
    "PER_USER_DATAPOINTS = 5\n",
    "MOVIES_IN_DATAPOINTS = 4\n",
    "TYPE_MOVIE = {'Good', 'Bad',}\n"
   ]
  },
  {
   "cell_type": "code",
   "execution_count": 30,
   "metadata": {},
   "outputs": [],
   "source": [
    "#Generate signle datapoint\n",
    "\n",
    "def gen_datapoint(userId, df_data,df_item):\n",
    "    #get all the movies that the user has rated\n",
    "    user_ratings = df_data[df_data['user_id'] == userId]\n",
    "    random_user_segment = random.choice(list(TYPE_MOVIE))\n",
    "    datapoint = []\n",
    "    if random_user_segment == 'Good':\n",
    "        user_ratings = user_ratings[user_ratings['rating'] > 3.5]\n",
    "    else:\n",
    "        user_ratings = user_ratings[user_ratings['rating'] < 2.5]\n",
    "    # print(user_ratings)\n",
    "    for i in range(PER_USER_DATAPOINTS):\n",
    "        #get a random movie that the user has rated\n",
    "        movie = user_ratings.sample()\n",
    "        movie_id = movie['item_id'].values[0]\n",
    "        movie_rating = movie['rating'].values[0]\n",
    "        movie_title = df_item[df_item['movieid'] == movie_id]['movietitle'].values[0]\n",
    "        datapoint.append([userId, movie_id, movie_rating, movie_title])\n",
    "        # print(userId, movie_id, movie_rating, movie_title)\n",
    "    return (random_user_segment, datapoint)\n"
   ]
  },
  {
   "cell_type": "code",
   "execution_count": 31,
   "metadata": {},
   "outputs": [
    {
     "data": {
      "text/plain": [
       "('Bad',\n",
       " [[760, 300, 1, 'Air Force One (1997)'],\n",
       "  [760, 723, 2, 'Boys on the Side (1995)'],\n",
       "  [760, 216, 2, 'When Harry Met Sally... (1989)'],\n",
       "  [760, 183, 2, 'Alien (1979)'],\n",
       "  [760, 183, 2, 'Alien (1979)']])"
      ]
     },
     "execution_count": 31,
     "metadata": {},
     "output_type": "execute_result"
    }
   ],
   "source": [
    "gen_datapoint(df_data['user_id'].sample().values[0], df_data, df_item)"
   ]
  },
  {
   "cell_type": "code",
   "execution_count": 32,
   "metadata": {},
   "outputs": [],
   "source": [
    "def prompt(data):\n",
    "    rating, datapoints = data\n",
    "    c_prompt = f'Given a user, here is the list of movies that they have rated as {rating}. \\n### User Input:'\n",
    "    for datapoint in datapoints:\n",
    "        c_prompt += f'\\nMovie: {datapoint[3]} Rating: {datapoint[2]}'\n",
    "    return c_prompt\n"
   ]
  },
  {
   "cell_type": "code",
   "execution_count": 33,
   "metadata": {},
   "outputs": [
    {
     "data": {
      "text/plain": [
       "'Given a user, here is the list of movies that they have rated as Good. \\n### User Input:\\nMovie: Fear of a Black Hat (1993) Rating: 4'"
      ]
     },
     "execution_count": 33,
     "metadata": {},
     "output_type": "execute_result"
    }
   ],
   "source": [
    "prompt(('Good', [[747, 390, 4, 'Fear of a Black Hat (1993)']]))"
   ]
  },
  {
   "cell_type": "code",
   "execution_count": 35,
   "metadata": {},
   "outputs": [
    {
     "name": "stderr",
     "output_type": "stream",
     "text": [
      "Generating prompts:   4%|▍         | 40/943 [00:00<00:04, 195.49it/s]"
     ]
    },
    {
     "name": "stdout",
     "output_type": "stream",
     "text": [
      "Error with user 10\n",
      "Error with user 33\n"
     ]
    },
    {
     "name": "stderr",
     "output_type": "stream",
     "text": [
      "Generating prompts:  20%|██        | 189/943 [00:00<00:03, 244.37it/s]"
     ]
    },
    {
     "name": "stdout",
     "output_type": "stream",
     "text": [
      "Error with user 170\n"
     ]
    },
    {
     "name": "stderr",
     "output_type": "stream",
     "text": [
      "Generating prompts:  42%|████▏     | 400/943 [00:01<00:02, 264.65it/s]"
     ]
    },
    {
     "name": "stdout",
     "output_type": "stream",
     "text": [
      "Error with user 355\n",
      "Error with user 359\n",
      "Error with user 376\n",
      "Error with user 384\n"
     ]
    },
    {
     "name": "stderr",
     "output_type": "stream",
     "text": [
      "Generating prompts:  48%|████▊     | 452/943 [00:01<00:02, 244.29it/s]"
     ]
    },
    {
     "name": "stdout",
     "output_type": "stream",
     "text": [
      "Error with user 420\n"
     ]
    },
    {
     "name": "stderr",
     "output_type": "stream",
     "text": [
      "Generating prompts:  54%|█████▎    | 505/943 [00:02<00:01, 249.34it/s]"
     ]
    },
    {
     "name": "stdout",
     "output_type": "stream",
     "text": [
      "Error with user 469\n",
      "Error with user 477\n",
      "Error with user 501\n"
     ]
    },
    {
     "name": "stderr",
     "output_type": "stream",
     "text": [
      "Generating prompts:  73%|███████▎  | 688/943 [00:02<00:00, 255.58it/s]"
     ]
    },
    {
     "name": "stdout",
     "output_type": "stream",
     "text": [
      "Error with user 636\n"
     ]
    },
    {
     "name": "stderr",
     "output_type": "stream",
     "text": [
      "Generating prompts:  78%|███████▊  | 740/943 [00:03<00:00, 254.56it/s]"
     ]
    },
    {
     "name": "stdout",
     "output_type": "stream",
     "text": [
      "Error with user 694\n"
     ]
    },
    {
     "name": "stderr",
     "output_type": "stream",
     "text": [
      "Generating prompts:  87%|████████▋ | 819/943 [00:03<00:00, 251.24it/s]"
     ]
    },
    {
     "name": "stdout",
     "output_type": "stream",
     "text": [
      "Error with user 784\n",
      "Error with user 810\n"
     ]
    },
    {
     "name": "stderr",
     "output_type": "stream",
     "text": [
      "Generating prompts:  92%|█████████▏| 871/943 [00:03<00:00, 246.70it/s]"
     ]
    },
    {
     "name": "stdout",
     "output_type": "stream",
     "text": [
      "Error with user 849\n",
      "Error with user 888\n"
     ]
    },
    {
     "name": "stderr",
     "output_type": "stream",
     "text": [
      "Generating prompts: 100%|██████████| 943/943 [00:03<00:00, 242.52it/s]"
     ]
    },
    {
     "name": "stdout",
     "output_type": "stream",
     "text": [
      "Error with user 928\n"
     ]
    },
    {
     "name": "stderr",
     "output_type": "stream",
     "text": [
      "\n"
     ]
    }
   ],
   "source": [
    "from tqdm import tqdm\n",
    "\n",
    "\n",
    "unique_user_ids = df_user['user_id'].unique().tolist()\n",
    "\n",
    "data_list = []\n",
    "\n",
    "# Loop through the ratings\n",
    "for userId in tqdm(unique_user_ids, desc='Generating prompts'):\n",
    "    # Call the prompt function\n",
    "    try:\n",
    "        rating, datapoints = gen_datapoint(userId, df_data,df_item)\n",
    "        data_list.append({'rating': rating, 'movie1': datapoints[0][3], 'movie2': datapoints[1][3], 'movie3': datapoints[2][3], 'movie4': datapoints[3][3]})\n",
    "    except:\n",
    "        print(f'Error with user {userId}')\n",
    "\n",
    "    \n"
   ]
  },
  {
   "cell_type": "code",
   "execution_count": 36,
   "metadata": {},
   "outputs": [],
   "source": [
    "\n",
    "def create_jsonl_file(datapoints, file_path):\n",
    "    with jsonlines.open(file_path, mode='w') as writer:\n",
    "        for datapoint in datapoints:\n",
    "            writer.write(datapoint)\n",
    "\n",
    "file_path = 'output.jsonl'\n",
    "create_jsonl_file(data_list, file_path)\n"
   ]
  }
 ],
 "metadata": {
  "kernelspec": {
   "display_name": "Python 3",
   "language": "python",
   "name": "python3"
  },
  "language_info": {
   "codemirror_mode": {
    "name": "ipython",
    "version": 3
   },
   "file_extension": ".py",
   "mimetype": "text/x-python",
   "name": "python",
   "nbconvert_exporter": "python",
   "pygments_lexer": "ipython3",
   "version": "3.11.5"
  }
 },
 "nbformat": 4,
 "nbformat_minor": 2
}
